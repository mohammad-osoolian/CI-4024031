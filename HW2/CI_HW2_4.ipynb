{
  "cells": [
    {
      "cell_type": "markdown",
      "metadata": {
        "id": "mqg4KSj_8Nz1"
      },
      "source": [
        "# In this notebook, we run an MLP model on dataset hoda and examine the results in terms of underfitting, fitting and overfitting."
      ]
    },
    {
      "cell_type": "markdown",
      "metadata": {
        "id": "IVk_5eoO76sj"
      },
      "source": [
        "## Download dataset"
      ]
    },
    {
      "cell_type": "code",
      "execution_count": 17,
      "metadata": {
        "colab": {
          "base_uri": "https://localhost:8080/"
        },
        "id": "TjoQGt01Ujx1",
        "outputId": "64b07879-4c20-496f-c846-d67b2db129bb"
      },
      "outputs": [
        {
          "output_type": "stream",
          "name": "stdout",
          "text": [
            "Downloading...\n",
            "From: https://drive.google.com/uc?id=1QJrQsEYOfPBn1LoIeYMZ2HFBRC0AY-6F\n",
            "To: /content/dataset.py\n",
            "100% 909/909 [00:00<00:00, 2.88MB/s]\n",
            "Downloading...\n",
            "From: https://drive.google.com/uc?id=1zStcaVl_34RrYIfVObuM4xzB6s8xwvBi\n",
            "To: /content/Data_hoda_full.mat\n",
            "100% 3.99M/3.99M [00:00<00:00, 162MB/s]\n"
          ]
        }
      ],
      "source": [
        "!gdown --fuzzy https://drive.google.com/file/d/1QJrQsEYOfPBn1LoIeYMZ2HFBRC0AY-6F/view?usp=sharing\n",
        "!gdown --fuzzy https://drive.google.com/file/d/1zStcaVl_34RrYIfVObuM4xzB6s8xwvBi/view?usp=sharing"
      ]
    },
    {
      "cell_type": "markdown",
      "metadata": {
        "id": "ruebTHNSBqRD"
      },
      "source": [
        "## Importing libraries"
      ]
    },
    {
      "cell_type": "code",
      "execution_count": 31,
      "metadata": {
        "id": "WhoXKRptiRDe"
      },
      "outputs": [],
      "source": [
        "import keras\n",
        "import numpy as np\n",
        "import matplotlib.pyplot as plt\n",
        "\n",
        "from keras.models import Sequential\n",
        "from keras.layers import Dense,  Activation\n",
        "from dataset import load_hoda"
      ]
    },
    {
      "cell_type": "markdown",
      "metadata": {
        "id": "ku75DKlg_f9y"
      },
      "source": [
        "# Load dataset"
      ]
    },
    {
      "cell_type": "code",
      "execution_count": 32,
      "metadata": {
        "id": "4D7VhBCKiVWl"
      },
      "outputs": [],
      "source": [
        "x_train_original, y_train_original, x_test_original, y_test_original = load_hoda()"
      ]
    },
    {
      "cell_type": "markdown",
      "metadata": {
        "id": "Wruhn4AmB5zC"
      },
      "source": [
        "### Converting x_train and x_test to ndarray array format and converting y_train and y_test to one-hot-encoding:\n",
        "####First, we have defined a simple function that prints the dimensions, data type and information of the loaded dataset. We will print this information before and after data preprocessing to notice the changes!"
      ]
    },
    {
      "cell_type": "code",
      "execution_count": 33,
      "metadata": {
        "id": "nbSZTm93iVb9"
      },
      "outputs": [],
      "source": [
        "# Preprocess input data for Keras.\n",
        "x_train = np.array(x_train_original)\n",
        "y_train = keras.utils.to_categorical(y_train_original, num_classes=10)\n",
        "x_test = np.array(x_test_original)\n",
        "y_test = keras.utils.to_categorical(y_test_original, num_classes=10)"
      ]
    },
    {
      "cell_type": "code",
      "execution_count": 34,
      "metadata": {
        "id": "u5Gvz63iiVZV"
      },
      "outputs": [],
      "source": [
        "def print_data_info(x_train, y_train, x_test, y_test):\n",
        "    #Check data Type\n",
        "    print (\"\\ttype(x_train): {}\".format(type(x_train)))\n",
        "    print (\"\\ttype(y_train): {}\".format(type(y_train)))\n",
        "\n",
        "    #check data Shape\n",
        "    print (\"\\tx_train.shape: {}\".format(np.shape(x_train)))\n",
        "    print (\"\\ty_train.shape: {}\".format(np.shape(y_train)))\n",
        "    print (\"\\tx_test.shape: {}\".format(np.shape(x_test)))\n",
        "    print (\"\\ty_test.shape: {}\".format(np.shape(y_test)))\n",
        "\n",
        "    #sample data\n",
        "    print (\"\\ty_train[0]: {}\".format(y_train[0]))"
      ]
    },
    {
      "cell_type": "code",
      "execution_count": 35,
      "metadata": {
        "colab": {
          "base_uri": "https://localhost:8080/"
        },
        "id": "0C5eJsmeiVe2",
        "outputId": "26df9caf-e0c4-4f56-c9c8-a42efad82683"
      },
      "outputs": [
        {
          "output_type": "stream",
          "name": "stdout",
          "text": [
            "Before Preprocessing:\n",
            "\ttype(x_train): <class 'numpy.ndarray'>\n",
            "\ttype(y_train): <class 'numpy.ndarray'>\n",
            "\tx_train.shape: (1000, 25)\n",
            "\ty_train.shape: (1000,)\n",
            "\tx_test.shape: (200, 25)\n",
            "\ty_test.shape: (200,)\n",
            "\ty_train[0]: 6\n",
            "After Preprocessing:\n",
            "\ttype(x_train): <class 'numpy.ndarray'>\n",
            "\ttype(y_train): <class 'numpy.ndarray'>\n",
            "\tx_train.shape: (1000, 25)\n",
            "\ty_train.shape: (1000, 10)\n",
            "\tx_test.shape: (200, 25)\n",
            "\ty_test.shape: (200, 10)\n",
            "\ty_train[0]: [0. 0. 0. 0. 0. 0. 1. 0. 0. 0.]\n"
          ]
        }
      ],
      "source": [
        "print(\"Before Preprocessing:\")\n",
        "print_data_info(x_train_original, y_train_original, x_test_original, y_test_original)\n",
        "print(\"After Preprocessing:\")\n",
        "print_data_info(x_train, y_train, x_test, y_test)"
      ]
    },
    {
      "cell_type": "code",
      "execution_count": 36,
      "metadata": {
        "id": "ignnQ8cqidv_"
      },
      "outputs": [],
      "source": [
        "x_train = x_train.astype('float32')\n",
        "x_test = x_test.astype('float32')\n",
        "x_train /= 255\n",
        "x_test /= 255"
      ]
    },
    {
      "cell_type": "code",
      "execution_count": 39,
      "metadata": {
        "id": "cEQisVlqidyt"
      },
      "outputs": [],
      "source": [
        "# In this Create the model, input dim=25 and output dim = 10\n",
        "\n",
        "##################################\n",
        "# you code here\n",
        "##################################\n",
        "model3 = Sequential([\n",
        "    keras.layers.InputLayer(25),\n",
        "    keras.layers.Dense(50, activation='relu'),\n",
        "    keras.layers.Dense(30, activation='relu'),\n",
        "    keras.layers.Dense(15, activation='relu'),\n",
        "    Dense(10, activation='softmax'),\n",
        "])\n",
        "\n",
        "model2 = Sequential([\n",
        "    keras.layers.InputLayer(25),\n",
        "    keras.layers.Dense(15, activation='relu'),\n",
        "    Dense(10, activation='softmax'),\n",
        "])"
      ]
    },
    {
      "cell_type": "code",
      "execution_count": 38,
      "metadata": {
        "id": "gk4rIwjbid3W",
        "colab": {
          "base_uri": "https://localhost:8080/"
        },
        "outputId": "fca8d688-04bb-43de-9ab2-aeae67fa9c3c"
      },
      "outputs": [
        {
          "output_type": "stream",
          "name": "stdout",
          "text": [
            "Model: \"sequential_5\"\n",
            "_________________________________________________________________\n",
            " Layer (type)                Output Shape              Param #   \n",
            "=================================================================\n",
            " dense_13 (Dense)            (None, 50)                1300      \n",
            "                                                                 \n",
            " dense_14 (Dense)            (None, 30)                1530      \n",
            "                                                                 \n",
            " dense_15 (Dense)            (None, 15)                465       \n",
            "                                                                 \n",
            " dense_16 (Dense)            (None, 10)                160       \n",
            "                                                                 \n",
            "=================================================================\n",
            "Total params: 3455 (13.50 KB)\n",
            "Trainable params: 3455 (13.50 KB)\n",
            "Non-trainable params: 0 (0.00 Byte)\n",
            "_________________________________________________________________\n"
          ]
        }
      ],
      "source": [
        "model3.summary()"
      ]
    },
    {
      "cell_type": "code",
      "source": [
        "model2.summary()"
      ],
      "metadata": {
        "colab": {
          "base_uri": "https://localhost:8080/"
        },
        "id": "BOr0NIRvfZOL",
        "outputId": "3916ce89-34c6-44b4-c9ec-b2852d41a4d0"
      },
      "execution_count": 40,
      "outputs": [
        {
          "output_type": "stream",
          "name": "stdout",
          "text": [
            "Model: \"sequential_7\"\n",
            "_________________________________________________________________\n",
            " Layer (type)                Output Shape              Param #   \n",
            "=================================================================\n",
            " dense_21 (Dense)            (None, 15)                390       \n",
            "                                                                 \n",
            " dense_22 (Dense)            (None, 10)                160       \n",
            "                                                                 \n",
            "=================================================================\n",
            "Total params: 550 (2.15 KB)\n",
            "Trainable params: 550 (2.15 KB)\n",
            "Non-trainable params: 0 (0.00 Byte)\n",
            "_________________________________________________________________\n"
          ]
        }
      ]
    },
    {
      "cell_type": "markdown",
      "metadata": {
        "id": "XVBSerPdCxnL"
      },
      "source": [
        "## Compile model"
      ]
    },
    {
      "cell_type": "code",
      "execution_count": 41,
      "metadata": {
        "id": "ZJVfanv2id52"
      },
      "outputs": [],
      "source": [
        "# In this cell compile mode, set loss function and optimizer and get metrics accuracy\n",
        "\n",
        "##################################\n",
        "# you code here\n",
        "##################################\n",
        "model3.compile(optimizer='adam', loss='CategoricalCrossentropy', metrics='accuracy')\n",
        "model2.compile(optimizer='adam', loss='CategoricalCrossentropy', metrics='accuracy')"
      ]
    },
    {
      "cell_type": "markdown",
      "metadata": {
        "id": "Uz92ZcWOJFFU"
      },
      "source": [
        "## Fit model"
      ]
    },
    {
      "cell_type": "code",
      "execution_count": 28,
      "metadata": {
        "id": "ZaKtROcxinbV",
        "colab": {
          "base_uri": "https://localhost:8080/"
        },
        "outputId": "1d30a7f0-75f1-41f4-eb3d-ba8b31536f92"
      },
      "outputs": [
        {
          "output_type": "stream",
          "name": "stdout",
          "text": [
            "Epoch 1/100\n",
            "16/16 [==============================] - 2s 17ms/step - loss: 2.2298 - accuracy: 0.1620 - val_loss: 2.1764 - val_accuracy: 0.2100\n",
            "Epoch 2/100\n",
            "16/16 [==============================] - 0s 8ms/step - loss: 2.0935 - accuracy: 0.2650 - val_loss: 2.0610 - val_accuracy: 0.3250\n",
            "Epoch 3/100\n",
            "16/16 [==============================] - 0s 6ms/step - loss: 1.9465 - accuracy: 0.3770 - val_loss: 1.9154 - val_accuracy: 0.3950\n",
            "Epoch 4/100\n",
            "16/16 [==============================] - 0s 8ms/step - loss: 1.7569 - accuracy: 0.4860 - val_loss: 1.7171 - val_accuracy: 0.4750\n",
            "Epoch 5/100\n",
            "16/16 [==============================] - 0s 7ms/step - loss: 1.5325 - accuracy: 0.5540 - val_loss: 1.5116 - val_accuracy: 0.5250\n",
            "Epoch 6/100\n",
            "16/16 [==============================] - 0s 6ms/step - loss: 1.3225 - accuracy: 0.6210 - val_loss: 1.3338 - val_accuracy: 0.5800\n",
            "Epoch 7/100\n",
            "16/16 [==============================] - 0s 6ms/step - loss: 1.1574 - accuracy: 0.6550 - val_loss: 1.1766 - val_accuracy: 0.6300\n",
            "Epoch 8/100\n",
            "16/16 [==============================] - 0s 5ms/step - loss: 1.0208 - accuracy: 0.6710 - val_loss: 1.0445 - val_accuracy: 0.6650\n",
            "Epoch 9/100\n",
            "16/16 [==============================] - 0s 5ms/step - loss: 0.8985 - accuracy: 0.7310 - val_loss: 0.9221 - val_accuracy: 0.7450\n",
            "Epoch 10/100\n",
            "16/16 [==============================] - 0s 6ms/step - loss: 0.7973 - accuracy: 0.7810 - val_loss: 0.8129 - val_accuracy: 0.8050\n",
            "Epoch 11/100\n",
            "16/16 [==============================] - 0s 5ms/step - loss: 0.7084 - accuracy: 0.8210 - val_loss: 0.7225 - val_accuracy: 0.8400\n",
            "Epoch 12/100\n",
            "16/16 [==============================] - 0s 6ms/step - loss: 0.6351 - accuracy: 0.8350 - val_loss: 0.6566 - val_accuracy: 0.8550\n",
            "Epoch 13/100\n",
            "16/16 [==============================] - 0s 6ms/step - loss: 0.5751 - accuracy: 0.8530 - val_loss: 0.5906 - val_accuracy: 0.8600\n",
            "Epoch 14/100\n",
            "16/16 [==============================] - 0s 7ms/step - loss: 0.5213 - accuracy: 0.8710 - val_loss: 0.5459 - val_accuracy: 0.8500\n",
            "Epoch 15/100\n",
            "16/16 [==============================] - 0s 7ms/step - loss: 0.4834 - accuracy: 0.8590 - val_loss: 0.5014 - val_accuracy: 0.8750\n",
            "Epoch 16/100\n",
            "16/16 [==============================] - 0s 7ms/step - loss: 0.4420 - accuracy: 0.8720 - val_loss: 0.4707 - val_accuracy: 0.8750\n",
            "Epoch 17/100\n",
            "16/16 [==============================] - 0s 5ms/step - loss: 0.4117 - accuracy: 0.8780 - val_loss: 0.4428 - val_accuracy: 0.8850\n",
            "Epoch 18/100\n",
            "16/16 [==============================] - 0s 5ms/step - loss: 0.3900 - accuracy: 0.8770 - val_loss: 0.4269 - val_accuracy: 0.8800\n",
            "Epoch 19/100\n",
            "16/16 [==============================] - 0s 5ms/step - loss: 0.3696 - accuracy: 0.8900 - val_loss: 0.4091 - val_accuracy: 0.8900\n",
            "Epoch 20/100\n",
            "16/16 [==============================] - 0s 6ms/step - loss: 0.3449 - accuracy: 0.8910 - val_loss: 0.3966 - val_accuracy: 0.8900\n",
            "Epoch 21/100\n",
            "16/16 [==============================] - 0s 6ms/step - loss: 0.3291 - accuracy: 0.8950 - val_loss: 0.3866 - val_accuracy: 0.8950\n",
            "Epoch 22/100\n",
            "16/16 [==============================] - 0s 5ms/step - loss: 0.3245 - accuracy: 0.8860 - val_loss: 0.3723 - val_accuracy: 0.8850\n",
            "Epoch 23/100\n",
            "16/16 [==============================] - 0s 6ms/step - loss: 0.3104 - accuracy: 0.9040 - val_loss: 0.3688 - val_accuracy: 0.8900\n",
            "Epoch 24/100\n",
            "16/16 [==============================] - 0s 7ms/step - loss: 0.2944 - accuracy: 0.9060 - val_loss: 0.3569 - val_accuracy: 0.8900\n",
            "Epoch 25/100\n",
            "16/16 [==============================] - 0s 8ms/step - loss: 0.2846 - accuracy: 0.9070 - val_loss: 0.3500 - val_accuracy: 0.8950\n",
            "Epoch 26/100\n",
            "16/16 [==============================] - 0s 5ms/step - loss: 0.2724 - accuracy: 0.9110 - val_loss: 0.3444 - val_accuracy: 0.8900\n",
            "Epoch 27/100\n",
            "16/16 [==============================] - 0s 6ms/step - loss: 0.2662 - accuracy: 0.9150 - val_loss: 0.3351 - val_accuracy: 0.8950\n",
            "Epoch 28/100\n",
            "16/16 [==============================] - 0s 6ms/step - loss: 0.2545 - accuracy: 0.9170 - val_loss: 0.3340 - val_accuracy: 0.8900\n",
            "Epoch 29/100\n",
            "16/16 [==============================] - 0s 5ms/step - loss: 0.2448 - accuracy: 0.9260 - val_loss: 0.3226 - val_accuracy: 0.9050\n",
            "Epoch 30/100\n",
            "16/16 [==============================] - 0s 5ms/step - loss: 0.2359 - accuracy: 0.9260 - val_loss: 0.3173 - val_accuracy: 0.9000\n",
            "Epoch 31/100\n",
            "16/16 [==============================] - 0s 6ms/step - loss: 0.2282 - accuracy: 0.9310 - val_loss: 0.3195 - val_accuracy: 0.8950\n",
            "Epoch 32/100\n",
            "16/16 [==============================] - 0s 5ms/step - loss: 0.2213 - accuracy: 0.9310 - val_loss: 0.3097 - val_accuracy: 0.8900\n",
            "Epoch 33/100\n",
            "16/16 [==============================] - 0s 5ms/step - loss: 0.2135 - accuracy: 0.9330 - val_loss: 0.3065 - val_accuracy: 0.9050\n",
            "Epoch 34/100\n",
            "16/16 [==============================] - 0s 5ms/step - loss: 0.2079 - accuracy: 0.9370 - val_loss: 0.3034 - val_accuracy: 0.9100\n",
            "Epoch 35/100\n",
            "16/16 [==============================] - 0s 4ms/step - loss: 0.2049 - accuracy: 0.9390 - val_loss: 0.3017 - val_accuracy: 0.9100\n",
            "Epoch 36/100\n",
            "16/16 [==============================] - 0s 4ms/step - loss: 0.1972 - accuracy: 0.9400 - val_loss: 0.2955 - val_accuracy: 0.9100\n",
            "Epoch 37/100\n",
            "16/16 [==============================] - 0s 5ms/step - loss: 0.1909 - accuracy: 0.9440 - val_loss: 0.2946 - val_accuracy: 0.9200\n",
            "Epoch 38/100\n",
            "16/16 [==============================] - 0s 5ms/step - loss: 0.1853 - accuracy: 0.9470 - val_loss: 0.2917 - val_accuracy: 0.9100\n",
            "Epoch 39/100\n",
            "16/16 [==============================] - 0s 5ms/step - loss: 0.1804 - accuracy: 0.9430 - val_loss: 0.2885 - val_accuracy: 0.9100\n",
            "Epoch 40/100\n",
            "16/16 [==============================] - 0s 5ms/step - loss: 0.1768 - accuracy: 0.9460 - val_loss: 0.2890 - val_accuracy: 0.9000\n",
            "Epoch 41/100\n",
            "16/16 [==============================] - 0s 5ms/step - loss: 0.1765 - accuracy: 0.9460 - val_loss: 0.2868 - val_accuracy: 0.9150\n",
            "Epoch 42/100\n",
            "16/16 [==============================] - 0s 4ms/step - loss: 0.1675 - accuracy: 0.9490 - val_loss: 0.2809 - val_accuracy: 0.9000\n",
            "Epoch 43/100\n",
            "16/16 [==============================] - 0s 4ms/step - loss: 0.1640 - accuracy: 0.9480 - val_loss: 0.2759 - val_accuracy: 0.9150\n",
            "Epoch 44/100\n",
            "16/16 [==============================] - 0s 5ms/step - loss: 0.1574 - accuracy: 0.9560 - val_loss: 0.2720 - val_accuracy: 0.9150\n",
            "Epoch 45/100\n",
            "16/16 [==============================] - 0s 5ms/step - loss: 0.1564 - accuracy: 0.9520 - val_loss: 0.2763 - val_accuracy: 0.9050\n",
            "Epoch 46/100\n",
            "16/16 [==============================] - 0s 5ms/step - loss: 0.1509 - accuracy: 0.9530 - val_loss: 0.2708 - val_accuracy: 0.9200\n",
            "Epoch 47/100\n",
            "16/16 [==============================] - 0s 5ms/step - loss: 0.1477 - accuracy: 0.9590 - val_loss: 0.2662 - val_accuracy: 0.9200\n",
            "Epoch 48/100\n",
            "16/16 [==============================] - 0s 6ms/step - loss: 0.1452 - accuracy: 0.9530 - val_loss: 0.2640 - val_accuracy: 0.9200\n",
            "Epoch 49/100\n",
            "16/16 [==============================] - 0s 6ms/step - loss: 0.1421 - accuracy: 0.9600 - val_loss: 0.2644 - val_accuracy: 0.9200\n",
            "Epoch 50/100\n",
            "16/16 [==============================] - 0s 8ms/step - loss: 0.1402 - accuracy: 0.9570 - val_loss: 0.2658 - val_accuracy: 0.9200\n",
            "Epoch 51/100\n",
            "16/16 [==============================] - 0s 8ms/step - loss: 0.1384 - accuracy: 0.9620 - val_loss: 0.2603 - val_accuracy: 0.9250\n",
            "Epoch 52/100\n",
            "16/16 [==============================] - 0s 6ms/step - loss: 0.1358 - accuracy: 0.9560 - val_loss: 0.2619 - val_accuracy: 0.9100\n",
            "Epoch 53/100\n",
            "16/16 [==============================] - 0s 7ms/step - loss: 0.1327 - accuracy: 0.9570 - val_loss: 0.2592 - val_accuracy: 0.9150\n",
            "Epoch 54/100\n",
            "16/16 [==============================] - 0s 8ms/step - loss: 0.1256 - accuracy: 0.9630 - val_loss: 0.2551 - val_accuracy: 0.9250\n",
            "Epoch 55/100\n",
            "16/16 [==============================] - 0s 8ms/step - loss: 0.1237 - accuracy: 0.9650 - val_loss: 0.2586 - val_accuracy: 0.9250\n",
            "Epoch 56/100\n",
            "16/16 [==============================] - 0s 8ms/step - loss: 0.1246 - accuracy: 0.9620 - val_loss: 0.2531 - val_accuracy: 0.9250\n",
            "Epoch 57/100\n",
            "16/16 [==============================] - 0s 6ms/step - loss: 0.1184 - accuracy: 0.9700 - val_loss: 0.2523 - val_accuracy: 0.9250\n",
            "Epoch 58/100\n",
            "16/16 [==============================] - 0s 7ms/step - loss: 0.1145 - accuracy: 0.9640 - val_loss: 0.2578 - val_accuracy: 0.9150\n",
            "Epoch 59/100\n",
            "16/16 [==============================] - 0s 7ms/step - loss: 0.1130 - accuracy: 0.9710 - val_loss: 0.2516 - val_accuracy: 0.9200\n",
            "Epoch 60/100\n",
            "16/16 [==============================] - 0s 6ms/step - loss: 0.1103 - accuracy: 0.9690 - val_loss: 0.2495 - val_accuracy: 0.9200\n",
            "Epoch 61/100\n",
            "16/16 [==============================] - 0s 7ms/step - loss: 0.1096 - accuracy: 0.9700 - val_loss: 0.2571 - val_accuracy: 0.9300\n",
            "Epoch 62/100\n",
            "16/16 [==============================] - 0s 7ms/step - loss: 0.1089 - accuracy: 0.9700 - val_loss: 0.2502 - val_accuracy: 0.9300\n",
            "Epoch 63/100\n",
            "16/16 [==============================] - 0s 8ms/step - loss: 0.1032 - accuracy: 0.9710 - val_loss: 0.2521 - val_accuracy: 0.9200\n",
            "Epoch 64/100\n",
            "16/16 [==============================] - 0s 9ms/step - loss: 0.1022 - accuracy: 0.9740 - val_loss: 0.2505 - val_accuracy: 0.9200\n",
            "Epoch 65/100\n",
            "16/16 [==============================] - 0s 7ms/step - loss: 0.1021 - accuracy: 0.9720 - val_loss: 0.2485 - val_accuracy: 0.9300\n",
            "Epoch 66/100\n",
            "16/16 [==============================] - 0s 7ms/step - loss: 0.0958 - accuracy: 0.9710 - val_loss: 0.2492 - val_accuracy: 0.9300\n",
            "Epoch 67/100\n",
            "16/16 [==============================] - 0s 6ms/step - loss: 0.0958 - accuracy: 0.9750 - val_loss: 0.2467 - val_accuracy: 0.9300\n",
            "Epoch 68/100\n",
            "16/16 [==============================] - 0s 6ms/step - loss: 0.0944 - accuracy: 0.9720 - val_loss: 0.2475 - val_accuracy: 0.9300\n",
            "Epoch 69/100\n",
            "16/16 [==============================] - 0s 7ms/step - loss: 0.0903 - accuracy: 0.9770 - val_loss: 0.2460 - val_accuracy: 0.9350\n",
            "Epoch 70/100\n",
            "16/16 [==============================] - 0s 7ms/step - loss: 0.0879 - accuracy: 0.9740 - val_loss: 0.2495 - val_accuracy: 0.9350\n",
            "Epoch 71/100\n",
            "16/16 [==============================] - 0s 7ms/step - loss: 0.0893 - accuracy: 0.9750 - val_loss: 0.2475 - val_accuracy: 0.9350\n",
            "Epoch 72/100\n",
            "16/16 [==============================] - 0s 5ms/step - loss: 0.0842 - accuracy: 0.9750 - val_loss: 0.2532 - val_accuracy: 0.9300\n",
            "Epoch 73/100\n",
            "16/16 [==============================] - 0s 5ms/step - loss: 0.0829 - accuracy: 0.9810 - val_loss: 0.2485 - val_accuracy: 0.9200\n",
            "Epoch 74/100\n",
            "16/16 [==============================] - 0s 5ms/step - loss: 0.0833 - accuracy: 0.9760 - val_loss: 0.2456 - val_accuracy: 0.9350\n",
            "Epoch 75/100\n",
            "16/16 [==============================] - 0s 5ms/step - loss: 0.0808 - accuracy: 0.9770 - val_loss: 0.2483 - val_accuracy: 0.9300\n",
            "Epoch 76/100\n",
            "16/16 [==============================] - 0s 5ms/step - loss: 0.0793 - accuracy: 0.9740 - val_loss: 0.2480 - val_accuracy: 0.9200\n",
            "Epoch 77/100\n",
            "16/16 [==============================] - 0s 5ms/step - loss: 0.0803 - accuracy: 0.9780 - val_loss: 0.2537 - val_accuracy: 0.9300\n",
            "Epoch 78/100\n",
            "16/16 [==============================] - 0s 5ms/step - loss: 0.0760 - accuracy: 0.9760 - val_loss: 0.2545 - val_accuracy: 0.9300\n",
            "Epoch 79/100\n",
            "16/16 [==============================] - 0s 6ms/step - loss: 0.0753 - accuracy: 0.9790 - val_loss: 0.2536 - val_accuracy: 0.9300\n",
            "Epoch 80/100\n",
            "16/16 [==============================] - 0s 5ms/step - loss: 0.0745 - accuracy: 0.9830 - val_loss: 0.2470 - val_accuracy: 0.9350\n",
            "Epoch 81/100\n",
            "16/16 [==============================] - 0s 6ms/step - loss: 0.0724 - accuracy: 0.9800 - val_loss: 0.2526 - val_accuracy: 0.9400\n",
            "Epoch 82/100\n",
            "16/16 [==============================] - 0s 6ms/step - loss: 0.0709 - accuracy: 0.9820 - val_loss: 0.2508 - val_accuracy: 0.9300\n",
            "Epoch 83/100\n",
            "16/16 [==============================] - 0s 5ms/step - loss: 0.0694 - accuracy: 0.9820 - val_loss: 0.2470 - val_accuracy: 0.9350\n",
            "Epoch 84/100\n",
            "16/16 [==============================] - 0s 4ms/step - loss: 0.0662 - accuracy: 0.9840 - val_loss: 0.2524 - val_accuracy: 0.9350\n",
            "Epoch 85/100\n",
            "16/16 [==============================] - 0s 5ms/step - loss: 0.0654 - accuracy: 0.9800 - val_loss: 0.2518 - val_accuracy: 0.9350\n",
            "Epoch 86/100\n",
            "16/16 [==============================] - 0s 5ms/step - loss: 0.0632 - accuracy: 0.9820 - val_loss: 0.2506 - val_accuracy: 0.9250\n",
            "Epoch 87/100\n",
            "16/16 [==============================] - 0s 5ms/step - loss: 0.0623 - accuracy: 0.9840 - val_loss: 0.2523 - val_accuracy: 0.9250\n",
            "Epoch 88/100\n",
            "16/16 [==============================] - 0s 4ms/step - loss: 0.0589 - accuracy: 0.9840 - val_loss: 0.2518 - val_accuracy: 0.9300\n",
            "Epoch 89/100\n",
            "16/16 [==============================] - 0s 5ms/step - loss: 0.0577 - accuracy: 0.9860 - val_loss: 0.2497 - val_accuracy: 0.9350\n",
            "Epoch 90/100\n",
            "16/16 [==============================] - 0s 5ms/step - loss: 0.0571 - accuracy: 0.9870 - val_loss: 0.2529 - val_accuracy: 0.9300\n",
            "Epoch 91/100\n",
            "16/16 [==============================] - 0s 5ms/step - loss: 0.0555 - accuracy: 0.9880 - val_loss: 0.2528 - val_accuracy: 0.9250\n",
            "Epoch 92/100\n",
            "16/16 [==============================] - 0s 5ms/step - loss: 0.0552 - accuracy: 0.9870 - val_loss: 0.2536 - val_accuracy: 0.9300\n",
            "Epoch 93/100\n",
            "16/16 [==============================] - 0s 5ms/step - loss: 0.0553 - accuracy: 0.9880 - val_loss: 0.2598 - val_accuracy: 0.9300\n",
            "Epoch 94/100\n",
            "16/16 [==============================] - 0s 4ms/step - loss: 0.0535 - accuracy: 0.9880 - val_loss: 0.2530 - val_accuracy: 0.9250\n",
            "Epoch 95/100\n",
            "16/16 [==============================] - 0s 6ms/step - loss: 0.0523 - accuracy: 0.9850 - val_loss: 0.2540 - val_accuracy: 0.9300\n",
            "Epoch 96/100\n",
            "16/16 [==============================] - 0s 5ms/step - loss: 0.0492 - accuracy: 0.9890 - val_loss: 0.2555 - val_accuracy: 0.9300\n",
            "Epoch 97/100\n",
            "16/16 [==============================] - 0s 5ms/step - loss: 0.0483 - accuracy: 0.9890 - val_loss: 0.2569 - val_accuracy: 0.9300\n",
            "Epoch 98/100\n",
            "16/16 [==============================] - 0s 5ms/step - loss: 0.0493 - accuracy: 0.9870 - val_loss: 0.2575 - val_accuracy: 0.9300\n",
            "Epoch 99/100\n",
            "16/16 [==============================] - 0s 5ms/step - loss: 0.0480 - accuracy: 0.9910 - val_loss: 0.2620 - val_accuracy: 0.9300\n",
            "Epoch 100/100\n",
            "16/16 [==============================] - 0s 4ms/step - loss: 0.0459 - accuracy: 0.9890 - val_loss: 0.2590 - val_accuracy: 0.9250\n"
          ]
        }
      ],
      "source": [
        "MLP_model = model3.fit(x_train, y_train,\n",
        "          epochs=100,\n",
        "          batch_size=64, validation_data=(x_test, y_test))\n",
        "\n",
        "# MLP_model = model2.fit(x_train, y_train,\n",
        "#           epochs=100,\n",
        "#           batch_size=64, validation_data=(x_test, y_test))\n",
        "\n"
      ]
    },
    {
      "cell_type": "code",
      "execution_count": 29,
      "metadata": {
        "colab": {
          "base_uri": "https://localhost:8080/",
          "height": 447
        },
        "id": "SveCNiLkisTF",
        "outputId": "af35b494-a14c-4b42-9d86-c01c07bb57ab"
      },
      "outputs": [
        {
          "output_type": "execute_result",
          "data": {
            "text/plain": [
              "[<matplotlib.lines.Line2D at 0x7912fc132170>]"
            ]
          },
          "metadata": {},
          "execution_count": 29
        },
        {
          "output_type": "display_data",
          "data": {
            "text/plain": [
              "<Figure size 640x480 with 1 Axes>"
            ],
            "image/png": "[encoded data removed]"
          },
          "metadata": {}
        }
      ],
      "source": [
        "# plot Loss\n",
        "plt.plot(MLP_model.history[\"loss\"])\n",
        "plt.plot(MLP_model.history[\"val_loss\"])"
      ]
    },
    {
      "cell_type": "code",
      "execution_count": 42,
      "metadata": {
        "colab": {
          "base_uri": "https://localhost:8080/",
          "height": 447
        },
        "id": "Cx3VubunisVh",
        "outputId": "23bafad5-7c47-466a-841a-90e742472b9c"
      },
      "outputs": [
        {
          "output_type": "execute_result",
          "data": {
            "text/plain": [
              "[<matplotlib.lines.Line2D at 0x7913023ea6b0>]"
            ]
          },
          "metadata": {},
          "execution_count": 42
        },
        {
          "output_type": "display_data",
          "data": {
            "text/plain": [
              "<Figure size 640x480 with 1 Axes>"
            ],
            "image/png": "[encoded data removed]"
          },
          "metadata": {}
        }
      ],
      "source": [
        "# plot accuracy\n",
        "plt.plot(MLP_model.history[\"accuracy\"])\n",
        "plt.plot(MLP_model.history[\"val_accuracy\"])"
      ]
    },
    {
      "cell_type": "code",
      "source": [],
      "metadata": {
        "id": "h0WTzdDtNDvI"
      },
      "execution_count": null,
      "outputs": []
    }
  ],
  "metadata": {
    "colab": {
      "provenance": []
    },
    "kernelspec": {
      "display_name": "Python 3",
      "name": "python3"
    },
    "language_info": {
      "name": "python"
    }
  },
  "nbformat": 4,
  "nbformat_minor": 0
}