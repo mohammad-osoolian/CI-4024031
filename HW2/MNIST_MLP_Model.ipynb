{
  "nbformat": 4,
  "nbformat_minor": 0,
  "metadata": {
    "colab": {
      "provenance": []
    },
    "kernelspec": {
      "name": "python3",
      "display_name": "Python 3"
    },
    "language_info": {
      "name": "python"
    }
  },
  "cells": [
    {
      "cell_type": "code",
      "execution_count": 39,
      "metadata": {
        "id": "Oy0B0-SaH1rQ"
      },
      "outputs": [],
      "source": [
        "import torch\n",
        "from torch import nn\n",
        "from torchvision import transforms\n",
        "from torchvision.datasets import MNIST\n",
        "from torch.utils.data import DataLoader\n",
        "import matplotlib.pyplot as plt\n",
        "from tqdm import tqdm"
      ]
    },
    {
      "cell_type": "code",
      "source": [
        "train =  MNIST('/files/', train=True, download=True, transform=transforms.Compose([transforms.ToTensor(), transforms.Normalize((0.1307,), (0.3081,))]))\n",
        "test =  MNIST('/files/', train=False, download=True, transform=transforms.Compose([transforms.ToTensor(), transforms.Normalize((0.1307,), (0.3081,))]))\n",
        "\n",
        "train_loader = torch.utils.data.DataLoader(train, batch_size=64, shuffle=True)\n",
        "test_loader = torch.utils.data.DataLoader(test, batch_size=64, shuffle=True)"
      ],
      "metadata": {
        "id": "UtKK3RngQLeN"
      },
      "execution_count": 40,
      "outputs": []
    },
    {
      "cell_type": "code",
      "source": [
        "print(train.data.shape)"
      ],
      "metadata": {
        "colab": {
          "base_uri": "https://localhost:8080/"
        },
        "id": "-YjGWssDRBPE",
        "outputId": "dbbb2918-9d4a-4bbc-ec10-2d9e47c8af76"
      },
      "execution_count": 41,
      "outputs": [
        {
          "output_type": "stream",
          "name": "stdout",
          "text": [
            "torch.Size([60000, 28, 28])\n"
          ]
        }
      ]
    },
    {
      "cell_type": "code",
      "source": [
        "class MLP(nn.Module):\n",
        "  '''\n",
        "    Multilayer Perceptron.\n",
        "  '''\n",
        "  def __init__(self):\n",
        "    super().__init__()\n",
        "    self.layers = nn.Sequential(\n",
        "      nn.Flatten(),\n",
        "      nn.Linear(28 * 28, 256),\n",
        "      nn.ReLU(),\n",
        "      nn.Linear(256, 128),\n",
        "      nn.ReLU(),\n",
        "      nn.Linear(128, 10),\n",
        "    )\n",
        "\n",
        "\n",
        "  def forward(self, x):\n",
        "    '''Forward pass'''\n",
        "    return self.layers(x)"
      ],
      "metadata": {
        "id": "DTHTU3b7QwOb"
      },
      "execution_count": 42,
      "outputs": []
    },
    {
      "cell_type": "code",
      "source": [
        "torch.manual_seed(27)\n",
        "mlp = MLP()"
      ],
      "metadata": {
        "id": "2DQ28EFERZ9X"
      },
      "execution_count": 50,
      "outputs": []
    },
    {
      "cell_type": "code",
      "source": [
        "loss_function = nn.CrossEntropyLoss()\n",
        "optimizer = torch.optim.Adam(mlp.parameters(), lr=1e-3)\n",
        "n_epochs = 10\n",
        "val_per_epoch = 1"
      ],
      "metadata": {
        "id": "dtpfwvfoRkQB"
      },
      "execution_count": 51,
      "outputs": []
    },
    {
      "cell_type": "code",
      "source": [
        "def accuracy(yhat, y):\n",
        "  pred_idx = yhat.max(1, keepdim=True)[1]\n",
        "  correct = pred_idx.eq(y.view_as(pred_idx)).sum().item()\n",
        "  return correct / len(y)"
      ],
      "metadata": {
        "id": "fjNzqSNMYfSz"
      },
      "execution_count": 52,
      "outputs": []
    },
    {
      "cell_type": "code",
      "source": [
        "history = dict()\n",
        "history['train_loss'] = list()\n",
        "history['train_acc'] = list()\n",
        "history['val_loss'] = list()\n",
        "history['val_acc'] = list()\n",
        "\n",
        "for epoch in range(n_epochs):\n",
        "  running_loss = 0.0\n",
        "  running_acc = 0\n",
        "  mlp.train()\n",
        "\n",
        "  for idx, (x, y) in enumerate(tqdm(train_loader)):\n",
        "    optimizer.zero_grad()\n",
        "    yhat = mlp(x)\n",
        "    loss = loss_function(yhat, y)\n",
        "    loss.backward()\n",
        "    optimizer.step()\n",
        "\n",
        "    running_loss += loss.item()\n",
        "    running_acc += accuracy(yhat, y)\n",
        "\n",
        "  running_loss /= len(train_loader)\n",
        "  running_acc /= len(train_loader)\n",
        "  history['train_loss'].append(running_loss)\n",
        "  history['train_acc'].append(running_acc)\n",
        "  print(f\"epoch = {epoch}\\ttraining loss = {running_loss}\\ttrainig accuracy = {running_acc}\")\n",
        "\n",
        "  if epoch % val_per_epoch == val_per_epoch - 1:\n",
        "    running_loss = 0.0\n",
        "    running_acc = 0\n",
        "    mlp.train()\n",
        "    with torch.no_grad():\n",
        "      for idx, (x, y) in enumerate(tqdm(test_loader)):\n",
        "        yhat = mlp(x)\n",
        "        loss = loss_function(yhat, y)\n",
        "\n",
        "        running_loss += loss.item()\n",
        "        running_acc += accuracy(yhat, y)\n",
        "\n",
        "      running_loss /= len(test_loader)\n",
        "      running_acc /= len(test_loader)\n",
        "      history['val_loss'].append(running_loss)\n",
        "      history['val_acc'].append(running_acc)\n",
        "      print(f\"epoch = {epoch}\\tvalidation loss = {running_loss}\\tvalidation accuracy = {running_acc}\")\n",
        "\n",
        "\n"
      ],
      "metadata": {
        "colab": {
          "base_uri": "https://localhost:8080/"
        },
        "id": "QiIGTeMIRtvF",
        "outputId": "9a91a677-9aa5-457d-92f7-0022da07a5f1"
      },
      "execution_count": 53,
      "outputs": [
        {
          "output_type": "stream",
          "name": "stderr",
          "text": [
            "100%|██████████| 938/938 [00:21<00:00, 44.22it/s]\n"
          ]
        },
        {
          "output_type": "stream",
          "name": "stdout",
          "text": [
            "epoch = 0\ttraining loss = 0.23176576723175835\ttrainig accuracy = 0.9303538113006397\n"
          ]
        },
        {
          "output_type": "stream",
          "name": "stderr",
          "text": [
            "100%|██████████| 157/157 [00:02<00:00, 59.03it/s]\n"
          ]
        },
        {
          "output_type": "stream",
          "name": "stdout",
          "text": [
            "epoch = 0\tvalidation loss = 0.13406805542244274\tvalidation accuracy = 0.9581011146496815\n"
          ]
        },
        {
          "output_type": "stream",
          "name": "stderr",
          "text": [
            "100%|██████████| 938/938 [00:21<00:00, 43.77it/s]\n"
          ]
        },
        {
          "output_type": "stream",
          "name": "stdout",
          "text": [
            "epoch = 1\ttraining loss = 0.09448888953633681\ttrainig accuracy = 0.9710321162046909\n"
          ]
        },
        {
          "output_type": "stream",
          "name": "stderr",
          "text": [
            "100%|██████████| 157/157 [00:02<00:00, 53.42it/s]\n"
          ]
        },
        {
          "output_type": "stream",
          "name": "stdout",
          "text": [
            "epoch = 1\tvalidation loss = 0.08470318679976616\tvalidation accuracy = 0.9722332802547771\n"
          ]
        },
        {
          "output_type": "stream",
          "name": "stderr",
          "text": [
            "100%|██████████| 938/938 [00:22<00:00, 42.00it/s]\n"
          ]
        },
        {
          "output_type": "stream",
          "name": "stdout",
          "text": [
            "epoch = 2\ttraining loss = 0.0651654013472774\ttrainig accuracy = 0.9788612739872068\n"
          ]
        },
        {
          "output_type": "stream",
          "name": "stderr",
          "text": [
            "100%|██████████| 157/157 [00:02<00:00, 59.37it/s]\n"
          ]
        },
        {
          "output_type": "stream",
          "name": "stdout",
          "text": [
            "epoch = 2\tvalidation loss = 0.07346065482421285\tvalidation accuracy = 0.9772093949044586\n"
          ]
        },
        {
          "output_type": "stream",
          "name": "stderr",
          "text": [
            "100%|██████████| 938/938 [00:21<00:00, 44.56it/s]\n"
          ]
        },
        {
          "output_type": "stream",
          "name": "stdout",
          "text": [
            "epoch = 3\ttraining loss = 0.05022918477100057\ttrainig accuracy = 0.9837420042643923\n"
          ]
        },
        {
          "output_type": "stream",
          "name": "stderr",
          "text": [
            "100%|██████████| 157/157 [00:02<00:00, 55.65it/s]\n"
          ]
        },
        {
          "output_type": "stream",
          "name": "stdout",
          "text": [
            "epoch = 3\tvalidation loss = 0.0673515955394039\tvalidation accuracy = 0.979796974522293\n"
          ]
        },
        {
          "output_type": "stream",
          "name": "stderr",
          "text": [
            "100%|██████████| 938/938 [00:20<00:00, 45.70it/s]\n"
          ]
        },
        {
          "output_type": "stream",
          "name": "stdout",
          "text": [
            "epoch = 4\ttraining loss = 0.0401806513542932\ttrainig accuracy = 0.9867237473347548\n"
          ]
        },
        {
          "output_type": "stream",
          "name": "stderr",
          "text": [
            "100%|██████████| 157/157 [00:03<00:00, 45.50it/s]\n"
          ]
        },
        {
          "output_type": "stream",
          "name": "stdout",
          "text": [
            "epoch = 4\tvalidation loss = 0.0772386026438207\tvalidation accuracy = 0.9772093949044586\n"
          ]
        },
        {
          "output_type": "stream",
          "name": "stderr",
          "text": [
            "100%|██████████| 938/938 [00:20<00:00, 45.85it/s]\n"
          ]
        },
        {
          "output_type": "stream",
          "name": "stdout",
          "text": [
            "epoch = 5\ttraining loss = 0.03296912691687722\ttrainig accuracy = 0.9885894189765458\n"
          ]
        },
        {
          "output_type": "stream",
          "name": "stderr",
          "text": [
            "100%|██████████| 157/157 [00:03<00:00, 51.62it/s]\n"
          ]
        },
        {
          "output_type": "stream",
          "name": "stdout",
          "text": [
            "epoch = 5\tvalidation loss = 0.08580315995747877\tvalidation accuracy = 0.976015127388535\n"
          ]
        },
        {
          "output_type": "stream",
          "name": "stderr",
          "text": [
            "100%|██████████| 938/938 [00:21<00:00, 44.08it/s]\n"
          ]
        },
        {
          "output_type": "stream",
          "name": "stdout",
          "text": [
            "epoch = 6\ttraining loss = 0.02757879009522842\ttrainig accuracy = 0.9907216151385928\n"
          ]
        },
        {
          "output_type": "stream",
          "name": "stderr",
          "text": [
            "100%|██████████| 157/157 [00:02<00:00, 60.29it/s]\n"
          ]
        },
        {
          "output_type": "stream",
          "name": "stdout",
          "text": [
            "epoch = 6\tvalidation loss = 0.09225965810051354\tvalidation accuracy = 0.9753184713375797\n"
          ]
        },
        {
          "output_type": "stream",
          "name": "stderr",
          "text": [
            "100%|██████████| 938/938 [00:21<00:00, 43.69it/s]\n"
          ]
        },
        {
          "output_type": "stream",
          "name": "stdout",
          "text": [
            "epoch = 7\ttraining loss = 0.027628775036262435\ttrainig accuracy = 0.9906882995735607\n"
          ]
        },
        {
          "output_type": "stream",
          "name": "stderr",
          "text": [
            "100%|██████████| 157/157 [00:02<00:00, 54.77it/s]\n"
          ]
        },
        {
          "output_type": "stream",
          "name": "stdout",
          "text": [
            "epoch = 7\tvalidation loss = 0.07905812268916541\tvalidation accuracy = 0.9804936305732485\n"
          ]
        },
        {
          "output_type": "stream",
          "name": "stderr",
          "text": [
            "100%|██████████| 938/938 [00:21<00:00, 42.79it/s]\n"
          ]
        },
        {
          "output_type": "stream",
          "name": "stdout",
          "text": [
            "epoch = 8\ttraining loss = 0.021184011268743332\ttrainig accuracy = 0.9932702558635395\n"
          ]
        },
        {
          "output_type": "stream",
          "name": "stderr",
          "text": [
            "100%|██████████| 157/157 [00:02<00:00, 60.96it/s]\n"
          ]
        },
        {
          "output_type": "stream",
          "name": "stdout",
          "text": [
            "epoch = 8\tvalidation loss = 0.08239010493336861\tvalidation accuracy = 0.980593152866242\n"
          ]
        },
        {
          "output_type": "stream",
          "name": "stderr",
          "text": [
            "100%|██████████| 938/938 [00:21<00:00, 43.81it/s]\n"
          ]
        },
        {
          "output_type": "stream",
          "name": "stdout",
          "text": [
            "epoch = 9\ttraining loss = 0.01990194081419394\ttrainig accuracy = 0.9939365671641791\n"
          ]
        },
        {
          "output_type": "stream",
          "name": "stderr",
          "text": [
            "100%|██████████| 157/157 [00:02<00:00, 60.63it/s]"
          ]
        },
        {
          "output_type": "stream",
          "name": "stdout",
          "text": [
            "epoch = 9\tvalidation loss = 0.10088154094465741\tvalidation accuracy = 0.9768113057324841\n"
          ]
        },
        {
          "output_type": "stream",
          "name": "stderr",
          "text": [
            "\n"
          ]
        }
      ]
    },
    {
      "cell_type": "code",
      "source": [
        "plt.plot(history['train_loss'], label='trian loss')\n",
        "plt.plot(history['val_loss'], label='val_loss')\n",
        "plt.legend()"
      ],
      "metadata": {
        "colab": {
          "base_uri": "https://localhost:8080/",
          "height": 447
        },
        "id": "UG7M2VaKWnMX",
        "outputId": "9c9b4cf6-14cb-4598-8bbb-49b49fd6e08f"
      },
      "execution_count": 54,
      "outputs": [
        {
          "output_type": "execute_result",
          "data": {
            "text/plain": [
              "<matplotlib.legend.Legend at 0x7fbf5a4ff550>"
            ]
          },
          "metadata": {},
          "execution_count": 54
        },
        {
          "output_type": "display_data",
          "data": {
            "text/plain": [
              "<Figure size 640x480 with 1 Axes>"
            ],
            "image/png": "[encoded data removed]"
          },
          "metadata": {}
        }
      ]
    },
    {
      "cell_type": "code",
      "source": [
        "plt.plot(history['train_acc'], label='trian acc')\n",
        "plt.plot(history['val_acc'], label='val_acc')\n",
        "plt.legend()"
      ],
      "metadata": {
        "colab": {
          "base_uri": "https://localhost:8080/",
          "height": 447
        },
        "id": "zmdCl4Xmgpx8",
        "outputId": "ec714c8b-328b-4b85-a19e-bc874318f241"
      },
      "execution_count": 55,
      "outputs": [
        {
          "output_type": "execute_result",
          "data": {
            "text/plain": [
              "<matplotlib.legend.Legend at 0x7fbe704a8c70>"
            ]
          },
          "metadata": {},
          "execution_count": 55
        },
        {
          "output_type": "display_data",
          "data": {
            "text/plain": [
              "<Figure size 640x480 with 1 Axes>"
            ],
            "image/png": "[encoded data removed]"
          },
          "metadata": {}
        }
      ]
    }
  ]
}