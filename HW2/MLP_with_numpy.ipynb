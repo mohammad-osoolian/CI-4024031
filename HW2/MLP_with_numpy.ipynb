{
  "nbformat": 4,
  "nbformat_minor": 0,
  "metadata": {
    "colab": {
      "provenance": []
    },
    "kernelspec": {
      "name": "python3",
      "display_name": "Python 3"
    },
    "language_info": {
      "name": "python"
    }
  },
  "cells": [
    {
      "cell_type": "code",
      "source": [
        "import numpy as np"
      ],
      "metadata": {
        "id": "GXWKQPFeincn"
      },
      "execution_count": 2,
      "outputs": []
    },
    {
      "cell_type": "code",
      "execution_count": 72,
      "metadata": {
        "id": "3wXXpWBshaxH"
      },
      "outputs": [],
      "source": [
        "x_train = np.array([[[0,0]], [[0,1]], [[1,0]], [[1,1]]])\n",
        "y_train = np.array([1, 0, 0, 1])\n"
      ]
    },
    {
      "cell_type": "code",
      "source": [
        "print(x_train.shape)\n",
        "print(y_train.shape)"
      ],
      "metadata": {
        "colab": {
          "base_uri": "https://localhost:8080/"
        },
        "id": "bP7gXY4fiioZ",
        "outputId": "04d991e7-f2dc-4843-a699-586697467b06"
      },
      "execution_count": 73,
      "outputs": [
        {
          "output_type": "stream",
          "name": "stdout",
          "text": [
            "(4, 1, 2)\n",
            "(4,)\n"
          ]
        }
      ]
    },
    {
      "cell_type": "code",
      "source": [
        "#\n",
        "#\n",
        "#   O     O\n",
        "#         O      O\n",
        "#   O     O\n",
        "#   X  W1 b1 W2  b2  Y\n",
        "#"
      ],
      "metadata": {
        "id": "BuhrCUllisN9"
      },
      "execution_count": 74,
      "outputs": []
    },
    {
      "cell_type": "code",
      "source": [
        "W1 = np.random.rand(2, 3)\n",
        "W2 = np.random.rand(3, 1)\n",
        "b1 = np.random.rand(1,3)\n",
        "b2 = np.random.rand(1,1)"
      ],
      "metadata": {
        "id": "NV_aMxsujORh"
      },
      "execution_count": 185,
      "outputs": []
    },
    {
      "cell_type": "code",
      "source": [
        "print(f'{W1.shape=} {W2.shape=} {b1.shape=} {b2.shape=}')"
      ],
      "metadata": {
        "colab": {
          "base_uri": "https://localhost:8080/"
        },
        "id": "ykfmpHTJkA-N",
        "outputId": "8159c65f-9c8e-4021-dd55-fd149c111c16"
      },
      "execution_count": 76,
      "outputs": [
        {
          "output_type": "stream",
          "name": "stdout",
          "text": [
            "W1.shape=(2, 3) W2.shape=(3, 1) b1.shape=(1, 3) b2.shape=(1, 1)\n"
          ]
        }
      ]
    },
    {
      "cell_type": "code",
      "source": [
        "def ReLU(a):\n",
        "  return np.maximum(a, 0)\n",
        "\n",
        "def ReLU_derivitive(a):\n",
        "  return a > 0\n",
        "\n",
        "def sigmoid(a):\n",
        "  return 1 / (1 + np.exp(-1 * a))\n",
        "\n",
        "def BinaryCrossEntropy(yhat, y):\n",
        "  return -1*(y*np.log2(yhat) + (1-y)*np.log2(1-yhat))"
      ],
      "metadata": {
        "id": "pF-6T2H0kMOX"
      },
      "execution_count": 90,
      "outputs": []
    },
    {
      "cell_type": "code",
      "source": [
        "def forward(x, W1, W2, b1, b2):\n",
        "  z1 = np.dot(x, W1) + b1\n",
        "  a1 = ReLU(z1)\n",
        "  z2 = np.dot(a1, W2) + b2\n",
        "  a2 = sigmoid(z2)\n",
        "  yhat = a2\n",
        "  return yhat"
      ],
      "metadata": {
        "id": "dYLy-N6lkld_"
      },
      "execution_count": 78,
      "outputs": []
    },
    {
      "cell_type": "code",
      "source": [
        "def backprop(x, W1, W2, b1, b2, y, yhat, alpha):\n",
        "  z1 = np.dot(x, W1) + b1\n",
        "  a1 = ReLU(z1)\n",
        "  z2 = np.dot(a1, W2) + b2\n",
        "  a2 = sigmoid(z2)\n",
        "\n",
        "  dl_dz2 = a2 - y\n",
        "  dl_db2 = dl_dz2\n",
        "  dl_dW2 = np.dot(a1.T, dl_dz2)\n",
        "\n",
        "  dl_da1 = np.dot(W2, dl_dz2)\n",
        "  dl_dz1 = dl_da1 * ReLU_derivitive(z1).T\n",
        "\n",
        "  dl_db1 = dl_dz1\n",
        "  dl_dW1 = np.dot(dl_dz1, x).T\n",
        "\n",
        "  b1 = b1 - alpha * dl_db1.T\n",
        "  W1 = W1 - alpha * dl_dW1\n",
        "  b2 = b2 - alpha * dl_db2\n",
        "  W2 = W2 - alpha * dl_dW2\n",
        "\n",
        "  return W1, W2, b1, b2"
      ],
      "metadata": {
        "id": "WbdgL_Xrrhnw"
      },
      "execution_count": 187,
      "outputs": []
    },
    {
      "cell_type": "code",
      "source": [
        "print('Before Learning')\n",
        "print(forward(x_train[0], W1, W2, b1, b2))   # x = 0, 0    y = 1\n",
        "print(forward(x_train[1], W1, W2, b1, b2))   # x = 0, 1    y = 0\n",
        "print(forward(x_train[2], W1, W2, b1, b2))   # x = 1, 0    y = 0\n",
        "print(forward(x_train[3], W1, W2, b1, b2))   # x = 1, 1    y = 1"
      ],
      "metadata": {
        "colab": {
          "base_uri": "https://localhost:8080/"
        },
        "id": "QK1gnjvBDMGC",
        "outputId": "03d4de40-a583-472c-b942-f27b242293db"
      },
      "execution_count": 186,
      "outputs": [
        {
          "output_type": "stream",
          "name": "stdout",
          "text": [
            "Before Learning\n",
            "[[0.7819563]]\n",
            "[[0.83897195]]\n",
            "[[0.88531668]]\n",
            "[[0.91813449]]\n"
          ]
        }
      ]
    },
    {
      "cell_type": "code",
      "source": [
        "alpha = 0.1\n",
        "epochs = 500\n",
        "\n",
        "for epoch in range(epochs):\n",
        "  for i in range(4):\n",
        "    yhat = forward(x_train[i], W1, W2, b1, b2)\n",
        "    W1, W2, b1, b2 = backprop(x_train[i], W1, W2, b1, b2, y_train[i], yhat, alpha=0.1)\n"
      ],
      "metadata": {
        "id": "ECBYyZ4j6MxV"
      },
      "execution_count": 188,
      "outputs": []
    },
    {
      "cell_type": "code",
      "source": [
        "print('After Learning')\n",
        "print(forward(x_train[0], W1, W2, b1, b2))   # x = 0, 0     y = 1\n",
        "print(forward(x_train[1], W1, W2, b1, b2))   # x = 0, 0     y = 0\n",
        "print(forward(x_train[2], W1, W2, b1, b2))   # x = 0, 0     y = 0\n",
        "print(forward(x_train[3], W1, W2, b1, b2))   # x = 0, 0     y = 1"
      ],
      "metadata": {
        "colab": {
          "base_uri": "https://localhost:8080/"
        },
        "id": "pu1UUUuk6p9k",
        "outputId": "124ac119-becd-48b3-d637-e3e7f46cc689"
      },
      "execution_count": 190,
      "outputs": [
        {
          "output_type": "stream",
          "name": "stdout",
          "text": [
            "After Learning\n",
            "[[0.95340432]]\n",
            "[[0.0101688]]\n",
            "[[0.01041628]]\n",
            "[[0.99339687]]\n"
          ]
        }
      ]
    }
  ]
}