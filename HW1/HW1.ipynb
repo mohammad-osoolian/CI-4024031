{
 "cells": [
  {
   "cell_type": "code",
   "execution_count": 1,
   "metadata": {},
   "outputs": [],
   "source": [
    "import numpy as np"
   ]
  },
  {
   "cell_type": "markdown",
   "metadata": {},
   "source": [
    "# Q1"
   ]
  },
  {
   "cell_type": "code",
   "execution_count": 2,
   "metadata": {},
   "outputs": [],
   "source": [
    "def element_wise_comparisons(array1, array2):\n",
    "    \"\"\"\n",
    "    Perform element-wise comparisons between two NumPy arrays.\n",
    "\n",
    "    Parameters:\n",
    "    - array1 (numpy.ndarray): First input NumPy array.\n",
    "    - array2 (numpy.ndarray): Second input NumPy array.\n",
    "\n",
    "    Returns:\n",
    "    - tuple: A tuple of NumPy arrays containing the following element-wise comparison results:\n",
    "        - greater_result (numpy.ndarray): Element-wise greater than comparison.\n",
    "        - greater_equal_result (numpy.ndarray): Element-wise greater than or equal to comparison.\n",
    "        - less_result (numpy.ndarray): Element-wise less than comparison.\n",
    "        - less_equal_result (numpy.ndarray): Element-wise less than or equal to comparison.\n",
    "    \"\"\"\n",
    "    \n",
    "    # ------------\n",
    "    greater_result = array1 > array2\n",
    "    greater_equal_result = array1 >= array2\n",
    "    less_result = array1 < array2\n",
    "    less_equal_result = array1 <= array2\n",
    "    # ------------\n",
    "\n",
    "    return greater_result, greater_equal_result, less_result, less_equal_result"
   ]
  },
  {
   "cell_type": "code",
   "execution_count": 3,
   "metadata": {},
   "outputs": [
    {
     "name": "stdout",
     "output_type": "stream",
     "text": [
      "Greater than:\n",
      "[[False False]\n",
      " [ True  True]]\n",
      "\n",
      "Greater than or equal to:\n",
      "[[ True  True]\n",
      " [ True  True]]\n",
      "\n",
      "Less than:\n",
      "[[False False]\n",
      " [False False]]\n",
      "\n",
      "Less than or equal to:\n",
      "[[ True  True]\n",
      " [False False]]\n"
     ]
    }
   ],
   "source": [
    "array1 = np.array([[1, 2], [3, 4]])\n",
    "array2 = np.array([[1, 2], [2, 3]])\n",
    "\n",
    "greater, greater_equal, less, less_equal = element_wise_comparisons(array1, array2)\n",
    "\n",
    "print(\"Greater than:\")\n",
    "print(greater)\n",
    "print(\"\\nGreater than or equal to:\")\n",
    "print(greater_equal)\n",
    "print(\"\\nLess than:\")\n",
    "print(less)\n",
    "print(\"\\nLess than or equal to:\")\n",
    "print(less_equal)"
   ]
  },
  {
   "cell_type": "markdown",
   "metadata": {},
   "source": [
    "# Q2"
   ]
  },
  {
   "cell_type": "code",
   "execution_count": 4,
   "metadata": {},
   "outputs": [],
   "source": [
    "def array_multiply(array1, array2, method=\"element-wise\"):\n",
    "    \"\"\"\n",
    "    Perform multiplication between two NumPy arrays using the specified method.\n",
    "\n",
    "    Parameters:\n",
    "    - array1 (numpy.ndarray): First input NumPy array.\n",
    "    - array2 (numpy.ndarray): Second input NumPy array.\n",
    "    - method (str, optional): The multiplication method to use. Defaults to \"element-wise\".\n",
    "\n",
    "    Returns:\n",
    "    - numpy.ndarray: The result of the multiplication operation based on the chosen method.\n",
    "    \"\"\"\n",
    "    # ------------\n",
    "    result = np.multiply(array1, array2) if method == 'element-wise' else np.dot(array1, array2)\n",
    "    # ------------\n",
    "\n",
    "    return result"
   ]
  },
  {
   "cell_type": "code",
   "execution_count": 5,
   "metadata": {},
   "outputs": [
    {
     "name": "stdout",
     "output_type": "stream",
     "text": [
      "Element-wise multiplication:\n",
      "[[2 0]\n",
      " [3 8]]\n",
      "\n",
      "Matrix multiplication:\n",
      "[[ 4  4]\n",
      " [10  8]]\n"
     ]
    }
   ],
   "source": [
    "array1 = np.array([[1, 2], [3, 4]])\n",
    "array2 = np.array([[2, 0], [1, 2]])\n",
    "\n",
    "# Perform element-wise multiplication\n",
    "element_wise_result = array_multiply(array1, array2, method=\"element-wise\")\n",
    "print(\"Element-wise multiplication:\")\n",
    "print(element_wise_result)\n",
    "\n",
    "# Perform matrix multiplication\n",
    "matrix_multiply_result = array_multiply(array1, array2, method=\"matrix-multiply\")\n",
    "print(\"\\nMatrix multiplication:\")\n",
    "print(matrix_multiply_result)"
   ]
  },
  {
   "cell_type": "markdown",
   "metadata": {},
   "source": [
    "# Q3"
   ]
  },
  {
   "cell_type": "code",
   "execution_count": 6,
   "metadata": {},
   "outputs": [],
   "source": [
    "def broadcast_add(p, q, method=\"row-wise\"):\n",
    "    \"\"\"\n",
    "    Perform addition between two NumPy arrays using broadcasting and the specified method.\n",
    "\n",
    "    Parameters:\n",
    "    - p (numpy.ndarray): First input NumPy array.\n",
    "    - q (numpy.ndarray): Second input NumPy array.\n",
    "    - method (str, optional): The addition method to use. Defaults to \"row-wise\".\n",
    "        - \"row-wise\": Perform row-wise addition, broadcasting q to match the number of rows in p.\n",
    "        - \"column-wise\": Perform column-wise addition, adding q to each column of p.\n",
    "\n",
    "    Returns:\n",
    "    - numpy.ndarray: The result of the addition operation based on the chosen method.\n",
    "    \n",
    "    Raises:\n",
    "    - ValueError: If an invalid method is provided or if the shapes are incompatible for the chosen method.\n",
    "    \"\"\"\n",
    "    # ------------\n",
    "    if method != \"row-wise\" and method != 'column-wise':\n",
    "        raise ValueError('method is not supported')\n",
    "    try:\n",
    "        if method == 'row-wise':\n",
    "            q = q.reshape(1, p.shape[1])\n",
    "            result = p+q\n",
    "        if method == 'column-wise':\n",
    "            q = q.reshape(p.shape[0], 1)\n",
    "            result = p+q\n",
    "    except Exception:\n",
    "        raise ValueError('shapes are incompatible')\n",
    "    # ------------\n",
    "    \n",
    "    return result"
   ]
  },
  {
   "cell_type": "code",
   "execution_count": 7,
   "metadata": {},
   "outputs": [
    {
     "name": "stdout",
     "output_type": "stream",
     "text": [
      "Row-wise addition:\n",
      "[[11 22 33]\n",
      " [14 25 36]\n",
      " [17 28 39]]\n",
      "\n",
      "Column-wise addition:\n",
      "[[11 12 13]\n",
      " [24 25 26]\n",
      " [37 38 39]]\n"
     ]
    }
   ],
   "source": [
    "# Example usage with different-shaped arrays\n",
    "p = np.array([[1, 2, 3], [4, 5, 6], [7, 8, 9]])\n",
    "q = np.array([10, 20, 30])\n",
    "\n",
    "# Add q row-wise to p\n",
    "row_wise_result = broadcast_add(p, q, method=\"row-wise\")\n",
    "print(\"Row-wise addition:\")\n",
    "print(row_wise_result)\n",
    "\n",
    "# Add q column-wise to p\n",
    "column_wise_result = broadcast_add(p, q, method=\"column-wise\")\n",
    "print(\"\\nColumn-wise addition:\")\n",
    "print(column_wise_result)"
   ]
  },
  {
   "cell_type": "markdown",
   "metadata": {},
   "source": [
    "# Q4"
   ]
  },
  {
   "cell_type": "code",
   "execution_count": 8,
   "metadata": {},
   "outputs": [
    {
     "name": "stdout",
     "output_type": "stream",
     "text": [
      "Original Array:\n",
      "[[ 1  6  5 10]\n",
      " [ 2 10  2  3]\n",
      " [ 8  7  6 10]\n",
      " [ 1  2  8 10]]\n",
      "After normalization:\n",
      "[[0.         0.55555556 0.44444444 1.        ]\n",
      " [0.11111111 1.         0.11111111 0.22222222]\n",
      " [0.77777778 0.66666667 0.55555556 1.        ]\n",
      " [0.         0.11111111 0.77777778 1.        ]]\n"
     ]
    }
   ],
   "source": [
    "# Initialize the random matrix\n",
    "x = np.random.randint(1, 11, (4, 4))\n",
    "\n",
    "print(\"Original Array:\")\n",
    "print(x)\n",
    "\n",
    "# Do the normalization\n",
    "x = x - x.min()\n",
    "x = x / x.max()\n",
    "\n",
    "print(\"After normalization:\")\n",
    "print(x)"
   ]
  },
  {
   "cell_type": "markdown",
   "metadata": {},
   "source": [
    "# Q5"
   ]
  },
  {
   "cell_type": "code",
   "execution_count": 9,
   "metadata": {},
   "outputs": [
    {
     "name": "stdout",
     "output_type": "stream",
     "text": [
      "query1:\n",
      "Daily return for first 10 days starting from day 2: [-0.00214496  0.0139108   0.01088372 -0.02410892  0.01351761 -0.00015861\n",
      " -0.0078813   0.00847409 -0.01376749 -0.00311912]\n",
      "query2:\n",
      "average daily return = 0.0005548260008486608\n",
      "query3:\n",
      "standard deviation = 0.009442945103460247\n"
     ]
    },
    {
     "data": {
      "image/png": "[encoded data removed]",
      "text/plain": [
       "<Figure size 640x480 with 1 Axes>"
      ]
     },
     "metadata": {},
     "output_type": "display_data"
    },
    {
     "data": {
      "image/png": "[encoded data removed]",
      "text/plain": [
       "<Figure size 640x480 with 1 Axes>"
      ]
     },
     "metadata": {},
     "output_type": "display_data"
    },
    {
     "name": "stdout",
     "output_type": "stream",
     "text": [
      "query6:\n",
      "best_day='11/9/2023' return =0.02878633838810639\n",
      "worst_day='4/16/2023' return = -0.028963574613605738\n",
      "query7:\n",
      "best_price_date='11/29/2023' price = 124.6180108\n",
      "worst_price_date='4/16/2023' price = 82.96821012\n"
     ]
    }
   ],
   "source": [
    "import matplotlib.pyplot as plt\n",
    "import pandas as pd\n",
    "import datetime\n",
    "\n",
    "# You should write your code here and print or plot the required data asked in homework documentation\n",
    "df = pd.read_csv('data.csv')\n",
    "cp = df['Closing Price'].to_numpy()\n",
    "\n",
    "# query1\n",
    "query1 = (cp[1:] - cp[0:-1]) / cp[0:-1]\n",
    "print(f'query1:\\nDaily return for first 10 days starting from day 2: {query1[:10]}')\n",
    "\n",
    "# query2\n",
    "query2 = query1.mean()\n",
    "print(f'query2:\\naverage daily return = {query2}')\n",
    "\n",
    "# query3\n",
    "query3 = query1.std()\n",
    "print(f'query3:\\nstandard deviation = {query3}')\n",
    "\n",
    "# query4\n",
    "dates = df['Date']\n",
    "plt.title('Closing Prices')\n",
    "plt.bar([datetime.datetime.strptime(date, r'%m/%d/%Y') for date in dates], cp)\n",
    "plt.show()\n",
    "\n",
    "# query5\n",
    "plt.title('Daily Returns')\n",
    "plt.bar([datetime.datetime.strptime(date, r'%m/%d/%Y') for date in dates[1:]], query1)\n",
    "plt.show()\n",
    "\n",
    "# query6\n",
    "best_day = dates[query1.argmax()+1]\n",
    "worst_day = dates[query1.argmin()+1]\n",
    "print(f'query6:\\n{best_day=} return ={query1.max()}\\n{worst_day=} return = {query1.min()}')\n",
    "\n",
    "# query7\n",
    "best_price_date = dates[cp.argmax()]\n",
    "worst_price_date = dates[cp.argmin()]\n",
    "print(f'query7:\\n{best_price_date=} price = {cp.max()}\\n{worst_price_date=} price = {cp.min()}')\n"
   ]
  },
  {
   "cell_type": "markdown",
   "metadata": {},
   "source": [
    "# Q6"
   ]
  },
  {
   "cell_type": "code",
   "execution_count": 10,
   "metadata": {},
   "outputs": [],
   "source": [
    "def for_loop_feed_forward(X, w):\n",
    "    \"\"\"\n",
    "    Perform a feed-forward operation using a for loop.\n",
    "\n",
    "    Parameters:\n",
    "    - X (numpy.ndarray): Input data matrix of shape (num_samples, num_features).\n",
    "    - w (numpy.ndarray): Weight matrix of shape (num_features, 1).\n",
    "\n",
    "    Returns:\n",
    "    - numpy.ndarray: Output matrix of shape (num_samples, 1).\n",
    "    \"\"\"\n",
    "    # ------------\n",
    "    outputs = np.zeros((X.shape[0], 1))\n",
    "    for i in range(0, X.shape[0]):\n",
    "        s = 0\n",
    "        for j in range(0, X.shape[1]):\n",
    "            s += X[i][j] * w[j]\n",
    "        outputs[i] = s\n",
    "    # ------------\n",
    "\n",
    "    return outputs\n",
    "\n",
    "def vectorized_feed_forward(X, w):\n",
    "    \"\"\"\n",
    "    Perform a feed-forward operation using vectorization.\n",
    "\n",
    "    Parameters:\n",
    "    - X (numpy.ndarray): Input data matrix of shape (num_samples, num_features).\n",
    "    - w (numpy.ndarray): Weight matrix of shape (num_features, 1).\n",
    "\n",
    "    Returns:\n",
    "    - numpy.ndarray: Output matrix of shape (num_samples, 1).\n",
    "    \"\"\"\n",
    "    # ------------\n",
    "    outputs = np.dot(X, w)\n",
    "    # ------------\n",
    "\n",
    "    return outputs"
   ]
  },
  {
   "cell_type": "code",
   "execution_count": 11,
   "metadata": {},
   "outputs": [
    {
     "name": "stdout",
     "output_type": "stream",
     "text": [
      "Time spent on calculating the outputs using for loops: \n",
      "1.6099963188171387\n",
      "Time spent on calculating the outputs using vectorization: \n",
      "0.0010025501251220703\n"
     ]
    }
   ],
   "source": [
    "import time\n",
    "\n",
    "# generate random samples\n",
    "\n",
    "X = np.random.rand(1000, 500)\n",
    "w = np.random.rand(500, 1)\n",
    "\n",
    "start_time = time.time()\n",
    "outputs = for_loop_feed_forward(X, w)\n",
    "\n",
    "print(\"Time spent on calculating the outputs using for loops: \")\n",
    "print(time.time() - start_time)\n",
    "\n",
    "start_time = time.time()\n",
    "outputs = vectorized_feed_forward(X, w)\n",
    "\n",
    "print(\"Time spent on calculating the outputs using vectorization: \")\n",
    "print(time.time() - start_time)"
   ]
  },
  {
   "cell_type": "markdown",
   "metadata": {},
   "source": [
    "# Q7"
   ]
  },
  {
   "cell_type": "code",
   "execution_count": 12,
   "metadata": {},
   "outputs": [],
   "source": [
    "def replace_elements_above_threshold(array, threshold):\n",
    "    \"\"\"\n",
    "    Replace elements in a NumPy array that are higher than the given threshold with a specified value.\n",
    "\n",
    "    Parameters:\n",
    "    - array (numpy.ndarray): Input NumPy array.\n",
    "    - threshold (float): Threshold value to compare elements with.\n",
    "\n",
    "    Returns:\n",
    "    - numpy.ndarray: NumPy array with elements replaced above the threshold.\n",
    "    \"\"\"\n",
    "    # ------------\n",
    "    modified_arr = array.copy()\n",
    "    modified_arr[array > threshold] = 1\n",
    "    modified_arr[array <= threshold] = 0\n",
    "    # ------------\n",
    "\n",
    "    return modified_arr"
   ]
  },
  {
   "cell_type": "code",
   "execution_count": 13,
   "metadata": {},
   "outputs": [
    {
     "name": "stdout",
     "output_type": "stream",
     "text": [
      "[[0 0 0]\n",
      " [0 0 1]\n",
      " [1 1 1]]\n"
     ]
    }
   ],
   "source": [
    "input_array = np.array([[1, 2, 3], [4, 5, 6], [7, 8, 9]])\n",
    "threshold_value = 5\n",
    "result_array = replace_elements_above_threshold(input_array, threshold_value)\n",
    "print(result_array)"
   ]
  },
  {
   "cell_type": "markdown",
   "metadata": {},
   "source": [
    "# Q8"
   ]
  },
  {
   "cell_type": "code",
   "execution_count": 14,
   "metadata": {},
   "outputs": [],
   "source": [
    "class Matrix:\n",
    "    def __init__(self, matrix):\n",
    "        \"\"\"\n",
    "        Initialize a Matrix object with a given list of lists.\n",
    "\n",
    "        Parameters:\n",
    "        - matrix (list of lists): Input list of lists representing the matrix.\n",
    "        \"\"\"\n",
    "        # ------------\n",
    "        self.values = matrix\n",
    "        # ------------\n",
    "\n",
    "    def is_equal(self, second_matrix):\n",
    "        \"\"\"\n",
    "        Check if this Matrix object is equal to another Matrix object.\n",
    "\n",
    "        Parameters:\n",
    "        - second_matrix (Matrix): Another Matrix object for comparison.\n",
    "\n",
    "        Returns:\n",
    "        - bool: True if the matrices are equal, False otherwise.\n",
    "        \"\"\"\n",
    "        # ------------\n",
    "        if not (len(self.values) == len(second_matrix.values) and len(self.values[0]) == len(second_matrix.values[0])):\n",
    "            return False\n",
    "        equal = True\n",
    "        for i in range(len(self.values)):\n",
    "            for j in range(len(self.values[0])):\n",
    "                if self.values[i][j] != second_matrix.values[i][j]:\n",
    "                    equal = False\n",
    "                    break\n",
    "            if not equal:\n",
    "                break\n",
    "        return equal\n",
    "        # ------------\n",
    "\n",
    "    def is_higher_elementwise(self, second_matrix):\n",
    "        \"\"\"\n",
    "        Check if this Matrix object has higher values element-wise compared to another Matrix object.\n",
    "\n",
    "        Parameters:\n",
    "        - second_matrix (Matrix): Another Matrix object for comparison.\n",
    "\n",
    "        Returns:\n",
    "        - Matrix: Matrix same shape of the input.\n",
    "        \"\"\"\n",
    "        # ------------\n",
    "        result = [[True if self.values[i][j] > second_matrix.values[i][j] else False \\\n",
    "                         for j in range(len(self.values[0]))] for i in range(len(self.values))]\n",
    "        return result\n",
    "        # ------------\n",
    "    \n",
    "    def is_subset(self, second_matrix):\n",
    "        \"\"\"\n",
    "        Check if this Matrix object is a subset of another Matrix object.\n",
    "\n",
    "        Parameters:\n",
    "        - second_matrix (Matrix): Another Matrix object for comparison.\n",
    "\n",
    "        Returns:\n",
    "        - bool: True if this matrix is a subset of 'second_matrix', False otherwise.\n",
    "        \"\"\"\n",
    "        # ------------\n",
    "        selfshape = (len(self.values), len(self.values[0]))\n",
    "        othershape = (len(second_matrix.values), len(second_matrix.values[0]))\n",
    "        if selfshape[0] > othershape[0] or selfshape[1] > othershape[1]:\n",
    "            return False\n",
    "\n",
    "        for i in range(othershape[0]-selfshape[0] + 1):\n",
    "            for j in range(othershape[1] - selfshape[1] + 1):\n",
    "                if Matrix([row[j:j+selfshape[1]] for row in second_matrix.values[i:i+selfshape[0]]]).is_equal(self):\n",
    "                    return True\n",
    "        return False\n",
    "        # ------------\n",
    "\n",
    "    def dot_product(self, second_matrix):\n",
    "        \"\"\"\n",
    "        Calculate the dot product between this Matrix object and another Matrix object.\n",
    "\n",
    "        Parameters:\n",
    "        - second_matrix (Matrix): Another Matrix object for the dot product.\n",
    "\n",
    "        Returns:\n",
    "        - Matrix: The result of the dot product as a numpy.ndarray.\n",
    "        \"\"\"\n",
    "        # ------------\n",
    "        result = [[0 for j in range(len(second_matrix.values[0]))] for i in range(len(self.values))]\n",
    "\n",
    "        if len(self.values[0]) != len(second_matrix.values):\n",
    "            raise ValueError('matrix shapes are incompatible')\n",
    "        for i in range(len(self.values)):\n",
    "            for j in range(len(second_matrix.values[0])):\n",
    "                row = self.values[i]\n",
    "                column = [row[j] for row in second_matrix.values]\n",
    "                s = 0\n",
    "                for k in range(len(row)):\n",
    "                    s += row[k] * column[k]\n",
    "                result[i][j] = s\n",
    "        return result\n",
    "        # ------------"
   ]
  },
  {
   "cell_type": "code",
   "execution_count": 15,
   "metadata": {},
   "outputs": [
    {
     "name": "stdout",
     "output_type": "stream",
     "text": [
      "Matrix.is_equal works fine!\n"
     ]
    }
   ],
   "source": [
    "matrix1 = Matrix([[1, 2, 3], [4, 5, 6], [7, 8, 9]])\n",
    "\n",
    "matrix2 = Matrix([[0, 0, 0], [4, 5, 6], [7, 8, 9]])\n",
    "\n",
    "# test equality of matrices here and show the result #\n",
    "assert matrix1.is_equal(matrix2) == False\n",
    "assert matrix1.is_equal(matrix1) == True\n",
    "assert matrix2.is_equal(matrix2) == True\n",
    "print('Matrix.is_equal works fine!')\n"
   ]
  },
  {
   "cell_type": "code",
   "execution_count": 16,
   "metadata": {},
   "outputs": [
    {
     "name": "stdout",
     "output_type": "stream",
     "text": [
      "Matrix.is_higher_elementwise works fine!\n"
     ]
    }
   ],
   "source": [
    "matrix3 = Matrix([[0, 0, 0], [10, 20, 30], [-1, 8, 10]])\n",
    "\n",
    "# test proportion of matrices here and show the result #\n",
    "assert matrix1.is_higher_elementwise(matrix2) == [[True, True, True], [False, False, False], [False, False, False]]\n",
    "assert matrix1.is_higher_elementwise(matrix3) == [[True, True, True], [False, False, False], [True, False, False]]\n",
    "assert matrix2.is_higher_elementwise(matrix3) == [[False, False, False], [False, False, False], [True, False, False]]\n",
    "print('Matrix.is_higher_elementwise works fine!')\n"
   ]
  },
  {
   "cell_type": "code",
   "execution_count": 17,
   "metadata": {},
   "outputs": [
    {
     "name": "stdout",
     "output_type": "stream",
     "text": [
      "Matrix.is_subset works fine!\n"
     ]
    }
   ],
   "source": [
    "matrix4 = Matrix([[5, 6], [8, 9]])\n",
    "matrix5 = Matrix([[1, 2], [4, 5]])\n",
    "matrix6 = Matrix([[1, 2], [3, 4]])\n",
    "\n",
    "# test subset of matrices here and show the result #\n",
    "assert matrix4.is_subset(matrix1) == True\n",
    "assert matrix5.is_subset(matrix1) == True\n",
    "assert matrix6.is_subset(matrix1) == False\n",
    "print('Matrix.is_subset works fine!')"
   ]
  },
  {
   "cell_type": "code",
   "execution_count": 18,
   "metadata": {},
   "outputs": [
    {
     "name": "stdout",
     "output_type": "stream",
     "text": [
      "Matrix.dot_product works fine!\n"
     ]
    }
   ],
   "source": [
    "matrix7 = Matrix([[3, 1], [2, 4], [-1, 5]])\n",
    "matrix8 = Matrix([[3, 1], [2, 4]])\n",
    "\n",
    "# test product of matrices here and show the result #\n",
    "assert matrix7.dot_product(matrix8) == [[11, 7], [14, 18], [7, 19]]\n",
    "print('Matrix.dot_product works fine!')\n"
   ]
  }
 ],
 "metadata": {
  "kernelspec": {
   "display_name": "CI-env",
   "language": "python",
   "name": "python3"
  },
  "language_info": {
   "codemirror_mode": {
    "name": "ipython",
    "version": 3
   },
   "file_extension": ".py",
   "mimetype": "text/x-python",
   "name": "python",
   "nbconvert_exporter": "python",
   "pygments_lexer": "ipython3",
   "version": "3.10.6"
  },
  "orig_nbformat": 4
 },
 "nbformat": 4,
 "nbformat_minor": 2
}
